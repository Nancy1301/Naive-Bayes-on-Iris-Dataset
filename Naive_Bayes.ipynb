{
  "nbformat": 4,
  "nbformat_minor": 0,
  "metadata": {
    "colab": {
      "name": "Naive_Bayes.ipynb",
      "provenance": [],
      "collapsed_sections": [],
      "toc_visible": true
    },
    "kernelspec": {
      "name": "python3",
      "display_name": "Python 3"
    }
  },
  "cells": [
    {
      "cell_type": "markdown",
      "metadata": {
        "id": "Pce6cmGKL7on"
      },
      "source": [
        "# **A Brief Introduction to Naive Bayes**\r\n",
        "Naive Bayes is a classification algorithm for binary (two-class) and multiclass classification problems. It is called Naive Bayes or idiot Bayes because the calculations of the probabilities for each class are simplified to make their calculations tractable.\r\n",
        "\r\n",
        "Rather than attempting to calculate the probabilities of each attribute value, they are assumed to be conditionally independent given the class value.\r\n",
        "\r\n",
        "This is a very strong assumption that is most unlikely in real data, i.e. that the attributes do not interact. Nevertheless, the approach performs surprisingly well on data where this assumption does not hold."
      ]
    },
    {
      "cell_type": "markdown",
      "metadata": {
        "id": "STA1oySeLPOl"
      },
      "source": [
        "# **Performing Naive Bayes Algorithm using IRIS dataset.**\r\n",
        "The Iris Flower Dataset involves predicting the flower species given measurements of iris flowers.\r\n",
        "\r\n",
        "It is a multiclass classification problem. The number of observations for each class is balanced. There are 150 observations with 4 input variables and 1 output variable. The variable names are as follows:\r\n",
        "\r\n",
        "1. Sepal length in cm.\r\n",
        "2. Sepal width in cm.\r\n",
        "3. Petal length in cm.\r\n",
        "4. Petal width in cm.\r\n",
        "output - Class(The species to which it belong)"
      ]
    },
    {
      "cell_type": "markdown",
      "metadata": {
        "id": "xF5MjG1iN34M"
      },
      "source": [
        "# **This Naive Bayes tutorial is broken down into 5 parts:**\r\n",
        "\r\n",
        "Step 1: Separate By Class. \r\n",
        "Step 2: Summarize Dataset.\r\n",
        "Step 3: Summarize Data By Class.\r\n",
        "Step 4: Gaussian Probability Density Function.\r\n",
        "Step 5: Class Probabilities.\r\n",
        "\r\n",
        "These steps will provide the foundation that you need to implement Naive Bayes from scratch and apply it to your own predictive modeling problems."
      ]
    },
    {
      "cell_type": "code",
      "metadata": {
        "id": "46d976evLxJM"
      },
      "source": [
        "import numpy as np\r\n",
        "import pandas as pd\r\n",
        "import seaborn as sns\r\n",
        "import matplotlib.pyplot as py\r\n",
        "from scipy import stats\r\n",
        "\r\n",
        "sns.set()"
      ],
      "execution_count": 42,
      "outputs": []
    },
    {
      "cell_type": "markdown",
      "metadata": {
        "id": "ZbXpDQno_pUg"
      },
      "source": [
        "Importing all the required libraries to perform the tasks"
      ]
    },
    {
      "cell_type": "code",
      "metadata": {
        "id": "lwtDQyaPPXJe"
      },
      "source": [
        "data = pd.read_csv('IRIS.csv')"
      ],
      "execution_count": 43,
      "outputs": []
    },
    {
      "cell_type": "markdown",
      "metadata": {
        "id": "u2pEu9vF_uFP"
      },
      "source": [
        "Loading the IRIS dataset "
      ]
    },
    {
      "cell_type": "code",
      "metadata": {
        "colab": {
          "base_uri": "https://localhost:8080/",
          "height": 402
        },
        "id": "aaY_taDAPb-S",
        "outputId": "dac067a5-9c2b-47af-fe4b-5801f7fc4caa"
      },
      "source": [
        "data"
      ],
      "execution_count": 44,
      "outputs": [
        {
          "output_type": "execute_result",
          "data": {
            "text/html": [
              "<div>\n",
              "<style scoped>\n",
              "    .dataframe tbody tr th:only-of-type {\n",
              "        vertical-align: middle;\n",
              "    }\n",
              "\n",
              "    .dataframe tbody tr th {\n",
              "        vertical-align: top;\n",
              "    }\n",
              "\n",
              "    .dataframe thead th {\n",
              "        text-align: right;\n",
              "    }\n",
              "</style>\n",
              "<table border=\"1\" class=\"dataframe\">\n",
              "  <thead>\n",
              "    <tr style=\"text-align: right;\">\n",
              "      <th></th>\n",
              "      <th>sepal_length</th>\n",
              "      <th>sepal_width</th>\n",
              "      <th>petal_length</th>\n",
              "      <th>petal_width</th>\n",
              "      <th>species</th>\n",
              "    </tr>\n",
              "  </thead>\n",
              "  <tbody>\n",
              "    <tr>\n",
              "      <th>0</th>\n",
              "      <td>5.1</td>\n",
              "      <td>3.5</td>\n",
              "      <td>1.4</td>\n",
              "      <td>0.2</td>\n",
              "      <td>Iris-setosa</td>\n",
              "    </tr>\n",
              "    <tr>\n",
              "      <th>1</th>\n",
              "      <td>4.9</td>\n",
              "      <td>3.0</td>\n",
              "      <td>1.4</td>\n",
              "      <td>0.2</td>\n",
              "      <td>Iris-setosa</td>\n",
              "    </tr>\n",
              "    <tr>\n",
              "      <th>2</th>\n",
              "      <td>4.7</td>\n",
              "      <td>3.2</td>\n",
              "      <td>1.3</td>\n",
              "      <td>0.2</td>\n",
              "      <td>Iris-setosa</td>\n",
              "    </tr>\n",
              "    <tr>\n",
              "      <th>3</th>\n",
              "      <td>4.6</td>\n",
              "      <td>3.1</td>\n",
              "      <td>1.5</td>\n",
              "      <td>0.2</td>\n",
              "      <td>Iris-setosa</td>\n",
              "    </tr>\n",
              "    <tr>\n",
              "      <th>4</th>\n",
              "      <td>5.0</td>\n",
              "      <td>3.6</td>\n",
              "      <td>1.4</td>\n",
              "      <td>0.2</td>\n",
              "      <td>Iris-setosa</td>\n",
              "    </tr>\n",
              "    <tr>\n",
              "      <th>...</th>\n",
              "      <td>...</td>\n",
              "      <td>...</td>\n",
              "      <td>...</td>\n",
              "      <td>...</td>\n",
              "      <td>...</td>\n",
              "    </tr>\n",
              "    <tr>\n",
              "      <th>145</th>\n",
              "      <td>6.7</td>\n",
              "      <td>3.0</td>\n",
              "      <td>5.2</td>\n",
              "      <td>2.3</td>\n",
              "      <td>Iris-virginica</td>\n",
              "    </tr>\n",
              "    <tr>\n",
              "      <th>146</th>\n",
              "      <td>6.3</td>\n",
              "      <td>2.5</td>\n",
              "      <td>5.0</td>\n",
              "      <td>1.9</td>\n",
              "      <td>Iris-virginica</td>\n",
              "    </tr>\n",
              "    <tr>\n",
              "      <th>147</th>\n",
              "      <td>6.5</td>\n",
              "      <td>3.0</td>\n",
              "      <td>5.2</td>\n",
              "      <td>2.0</td>\n",
              "      <td>Iris-virginica</td>\n",
              "    </tr>\n",
              "    <tr>\n",
              "      <th>148</th>\n",
              "      <td>6.2</td>\n",
              "      <td>3.4</td>\n",
              "      <td>5.4</td>\n",
              "      <td>2.3</td>\n",
              "      <td>Iris-virginica</td>\n",
              "    </tr>\n",
              "    <tr>\n",
              "      <th>149</th>\n",
              "      <td>5.9</td>\n",
              "      <td>3.0</td>\n",
              "      <td>5.1</td>\n",
              "      <td>1.8</td>\n",
              "      <td>Iris-virginica</td>\n",
              "    </tr>\n",
              "  </tbody>\n",
              "</table>\n",
              "<p>150 rows × 5 columns</p>\n",
              "</div>"
            ],
            "text/plain": [
              "     sepal_length  sepal_width  petal_length  petal_width         species\n",
              "0             5.1          3.5           1.4          0.2     Iris-setosa\n",
              "1             4.9          3.0           1.4          0.2     Iris-setosa\n",
              "2             4.7          3.2           1.3          0.2     Iris-setosa\n",
              "3             4.6          3.1           1.5          0.2     Iris-setosa\n",
              "4             5.0          3.6           1.4          0.2     Iris-setosa\n",
              "..            ...          ...           ...          ...             ...\n",
              "145           6.7          3.0           5.2          2.3  Iris-virginica\n",
              "146           6.3          2.5           5.0          1.9  Iris-virginica\n",
              "147           6.5          3.0           5.2          2.0  Iris-virginica\n",
              "148           6.2          3.4           5.4          2.3  Iris-virginica\n",
              "149           5.9          3.0           5.1          1.8  Iris-virginica\n",
              "\n",
              "[150 rows x 5 columns]"
            ]
          },
          "metadata": {
            "tags": []
          },
          "execution_count": 44
        }
      ]
    },
    {
      "cell_type": "code",
      "metadata": {
        "colab": {
          "base_uri": "https://localhost:8080/"
        },
        "id": "iKX2dyVFPdMc",
        "outputId": "9334bc90-c409-4eaa-ba8d-bc617a722c42"
      },
      "source": [
        "data.info()"
      ],
      "execution_count": 45,
      "outputs": [
        {
          "output_type": "stream",
          "text": [
            "<class 'pandas.core.frame.DataFrame'>\n",
            "RangeIndex: 150 entries, 0 to 149\n",
            "Data columns (total 5 columns):\n",
            " #   Column        Non-Null Count  Dtype  \n",
            "---  ------        --------------  -----  \n",
            " 0   sepal_length  150 non-null    float64\n",
            " 1   sepal_width   150 non-null    float64\n",
            " 2   petal_length  150 non-null    float64\n",
            " 3   petal_width   150 non-null    float64\n",
            " 4   species       150 non-null    object \n",
            "dtypes: float64(4), object(1)\n",
            "memory usage: 6.0+ KB\n"
          ],
          "name": "stdout"
        }
      ]
    },
    {
      "cell_type": "markdown",
      "metadata": {
        "id": "2Fe4eqEbREAr"
      },
      "source": [
        "Seeing this, we can deduce that there are 150 rows and 5 column. There is no null value."
      ]
    },
    {
      "cell_type": "code",
      "metadata": {
        "id": "WHa7sF8Z6gP0"
      },
      "source": [
        "df = pd.DataFrame(data, columns= ['species'])"
      ],
      "execution_count": 46,
      "outputs": []
    },
    {
      "cell_type": "code",
      "metadata": {
        "id": "KOzRWf0hz0Oc"
      },
      "source": [
        "map = {'Iris-setosa':0,'Iris-virginica':2,'Iris-versicolor':1}\r\n",
        "data.replace({'species' : map},inplace = True)"
      ],
      "execution_count": 50,
      "outputs": []
    },
    {
      "cell_type": "markdown",
      "metadata": {
        "id": "sW_msDYGCSYO"
      },
      "source": [
        "Setting the species in 3 classes in 'int' form - 0,1,2. for further mathematical calculations"
      ]
    },
    {
      "cell_type": "code",
      "metadata": {
        "colab": {
          "base_uri": "https://localhost:8080/"
        },
        "id": "0rhwLB5N5Yq0",
        "outputId": "ac2c9990-4fb3-4a12-8410-8a15b8799591"
      },
      "source": [
        "data.info()"
      ],
      "execution_count": 51,
      "outputs": [
        {
          "output_type": "stream",
          "text": [
            "<class 'pandas.core.frame.DataFrame'>\n",
            "RangeIndex: 150 entries, 0 to 149\n",
            "Data columns (total 5 columns):\n",
            " #   Column        Non-Null Count  Dtype  \n",
            "---  ------        --------------  -----  \n",
            " 0   sepal_length  150 non-null    float64\n",
            " 1   sepal_width   150 non-null    float64\n",
            " 2   petal_length  150 non-null    float64\n",
            " 3   petal_width   150 non-null    float64\n",
            " 4   species       150 non-null    int64  \n",
            "dtypes: float64(4), int64(1)\n",
            "memory usage: 6.0 KB\n"
          ],
          "name": "stdout"
        }
      ]
    },
    {
      "cell_type": "code",
      "metadata": {
        "id": "0nWyJbViIHLh"
      },
      "source": [
        "X = data.iloc[:,:4].values\r\n",
        "y = data['species'].values"
      ],
      "execution_count": 54,
      "outputs": []
    },
    {
      "cell_type": "markdown",
      "metadata": {
        "id": "J_yrRJ-nIRxm"
      },
      "source": [
        "splitting the dataset into independent(x) and dependent variables(y)\r\n"
      ]
    },
    {
      "cell_type": "code",
      "metadata": {
        "id": "zv98ezUL6L6J"
      },
      "source": [
        "from sklearn.model_selection import train_test_split\r\n",
        "X_train, X_test, y_train, y_test = train_test_split(X, y, test_size = 0.20, random_state = 82)"
      ],
      "execution_count": 55,
      "outputs": []
    },
    {
      "cell_type": "markdown",
      "metadata": {
        "id": "VBOvJ7m7IZW5"
      },
      "source": [
        "Splitting the dataset into the Training set and Testing set"
      ]
    },
    {
      "cell_type": "code",
      "metadata": {
        "id": "n1UdAUVGICtQ"
      },
      "source": [
        "from sklearn.preprocessing import StandardScaler\r\n",
        "sc = StandardScaler()\r\n",
        "X_train = sc.fit_transform(X_train)\r\n",
        "X_test = sc.transform(X_test)"
      ],
      "execution_count": 56,
      "outputs": []
    },
    {
      "cell_type": "markdown",
      "metadata": {
        "id": "sOkBGv60KJIl"
      },
      "source": [
        "Feature Scaling to bring the variable in a single scale"
      ]
    },
    {
      "cell_type": "code",
      "metadata": {
        "id": "FFfxUvtqKJ1h",
        "outputId": "1926a2e7-bc2e-4df4-9fa8-260fcc494797",
        "colab": {
          "base_uri": "https://localhost:8080/"
        }
      },
      "source": [
        "from sklearn.naive_bayes import GaussianNB\r\n",
        "nvclassifier = GaussianNB()\r\n",
        "nvclassifier.fit(X_train, y_train)"
      ],
      "execution_count": 57,
      "outputs": [
        {
          "output_type": "execute_result",
          "data": {
            "text/plain": [
              "GaussianNB(priors=None, var_smoothing=1e-09)"
            ]
          },
          "metadata": {
            "tags": []
          },
          "execution_count": 57
        }
      ]
    },
    {
      "cell_type": "markdown",
      "metadata": {
        "id": "UJuuCc53KQfx"
      },
      "source": [
        "Fitting Naive Bayes Classification to the Training set with linear kernel"
      ]
    },
    {
      "cell_type": "code",
      "metadata": {
        "id": "qcuiwYXmKOwX",
        "outputId": "8455649f-3ba7-4fa1-c95d-6b1308558906",
        "colab": {
          "base_uri": "https://localhost:8080/"
        }
      },
      "source": [
        "y_pred = nvclassifier.predict(X_test)\r\n",
        "print(y_pred)"
      ],
      "execution_count": 58,
      "outputs": [
        {
          "output_type": "stream",
          "text": [
            "[2 2 0 0 0 2 1 1 1 1 1 2 0 0 0 0 2 1 0 1 0 2 0 2 2 1 2 0 2 1]\n"
          ],
          "name": "stdout"
        }
      ]
    },
    {
      "cell_type": "markdown",
      "metadata": {
        "id": "yI6as0AjKWxV"
      },
      "source": [
        "Predicting the Test set results"
      ]
    },
    {
      "cell_type": "code",
      "metadata": {
        "id": "ZGY6Zuh6KZPI",
        "outputId": "fb2c472a-7333-43fc-a40c-ca9aa9ae5560",
        "colab": {
          "base_uri": "https://localhost:8080/"
        }
      },
      "source": [
        "#lets see the actual and predicted value side by side\r\n",
        "y_compare = np.vstack((y_test,y_pred)).T\r\n",
        "#actual value on the left side and predicted value on the right hand side\r\n",
        "#printing the top 5 values\r\n",
        "y_compare[:5,:]"
      ],
      "execution_count": 59,
      "outputs": [
        {
          "output_type": "execute_result",
          "data": {
            "text/plain": [
              "array([[2, 2],\n",
              "       [2, 2],\n",
              "       [0, 0],\n",
              "       [0, 0],\n",
              "       [0, 0]])"
            ]
          },
          "metadata": {
            "tags": []
          },
          "execution_count": 59
        }
      ]
    },
    {
      "cell_type": "code",
      "metadata": {
        "id": "cnZfGauPKiQL",
        "outputId": "b9ec59a3-ed01-4e06-ec83-0549ee2a1248",
        "colab": {
          "base_uri": "https://localhost:8080/"
        }
      },
      "source": [
        "# Making the Confusion Matrix\r\n",
        "from sklearn.metrics import confusion_matrix\r\n",
        "cm = confusion_matrix(y_test, y_pred)\r\n",
        "print(cm)"
      ],
      "execution_count": 60,
      "outputs": [
        {
          "output_type": "stream",
          "text": [
            "[[11  0  0]\n",
            " [ 0  8  1]\n",
            " [ 0  1  9]]\n"
          ],
          "name": "stdout"
        }
      ]
    },
    {
      "cell_type": "markdown",
      "metadata": {
        "id": "7Kl--SlVKm95"
      },
      "source": [
        "About Confusion Matrix : A confusion matrix is a table that is often used to describe the performance of a classification model (or \"classifier\") on a set of test data for which the true values are known.\r\n",
        "Can use this link to understand the concept further:\r\n",
        "https://www.dataschool.io/simple-guide-to-confusion-matrix-terminology/#:~:text=A%20confusion%20matrix%20is%20a,the%20true%20values%20are%20known.&text=The%20classifier%20made%20a%20total,the%20presence%20of%20that%20disease)."
      ]
    },
    {
      "cell_type": "code",
      "metadata": {
        "id": "UYuv5JFEKmFq",
        "outputId": "969e3827-6538-4d1c-c7eb-f809abbf7262",
        "colab": {
          "base_uri": "https://localhost:8080/"
        }
      },
      "source": [
        "#finding accuracy from the confusion matrix.\r\n",
        "a = cm.shape\r\n",
        "corrPred = 0\r\n",
        "falsePred = 0\r\n",
        "\r\n",
        "for row in range(a[0]):\r\n",
        "    for c in range(a[1]):\r\n",
        "        if row == c:\r\n",
        "            corrPred +=cm[row,c]\r\n",
        "        else:\r\n",
        "            falsePred += cm[row,c]\r\n",
        "print('Correct predictions: ', corrPred)\r\n",
        "print('False predictions', falsePred)\r\n",
        "print ('\\nAccuracy of the Naive Bayes Clasification is: ', corrPred/(cm.sum()))"
      ],
      "execution_count": 63,
      "outputs": [
        {
          "output_type": "stream",
          "text": [
            "Correct predictions:  28\n",
            "False predictions 2\n",
            "\n",
            "Accuracy of the Naive Bayes Clasification is:  0.9333333333333333\n"
          ],
          "name": "stdout"
        }
      ]
    },
    {
      "cell_type": "code",
      "metadata": {
        "id": "AwBS6t8oKv7Z"
      },
      "source": [
        ""
      ],
      "execution_count": null,
      "outputs": []
    }
  ]
}